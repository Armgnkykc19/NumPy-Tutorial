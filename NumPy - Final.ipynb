{
 "cells": [
  {
   "cell_type": "code",
   "execution_count": 1,
   "id": "7bccd79a",
   "metadata": {},
   "outputs": [],
   "source": [
    "import numpy as np"
   ]
  },
  {
   "cell_type": "code",
   "execution_count": 2,
   "id": "d1db8e6c",
   "metadata": {},
   "outputs": [
    {
     "data": {
      "text/plain": [
       "array([  0,   1,   2,   3,   4,   5,   6,   7,   8,   9,  10,  11,  12,\n",
       "        13,  14,  15,  16,  17,  18,  19,  20,  21,  22,  23,  24,  25,\n",
       "        26,  27,  28,  29,  30,  31,  32,  33,  34,  35,  36,  37,  38,\n",
       "        39,  40,  41,  42,  43,  44,  45,  46,  47,  48,  49,  50,  51,\n",
       "        52,  53,  54,  55,  56,  57,  58,  59,  60,  61,  62,  63,  64,\n",
       "        65,  66,  67,  68,  69,  70,  71,  72,  73,  74,  75,  76,  77,\n",
       "        78,  79,  80,  81,  82,  83,  84,  85,  86,  87,  88,  89,  90,\n",
       "        91,  92,  93,  94,  95,  96,  97,  98,  99, 100, 101, 102, 103,\n",
       "       104, 105, 106, 107, 108, 109, 110, 111, 112, 113, 114, 115, 116,\n",
       "       117, 118, 119])"
      ]
     },
     "execution_count": 2,
     "metadata": {},
     "output_type": "execute_result"
    }
   ],
   "source": [
    "#.reshape() Metodu Kullanılırken, Hesaplamak İstemediğimiz Boyutları Otomatik Hesaplattırabiliriz.\n",
    "# Örneğin 30 Karakterli , 1 Boyutlu Bir Array'imiz Var. Bunu 2 Boyutlu Bir Array Yaparken 5x6 Şeklinde Yazabiliriz.\n",
    "# Ama Sayı Çok Büyük Olursa , Örneğin 144 Olsun , Bunu 9 x a'lık Bir Matris Şeklinde Yazmak İsteyelim , a'yı Bilmiyorsak ; \n",
    "# a Yerine -1 Yazarak Biz Hesaplamadan Otomatik Hesaplatıp Matrisi Oluşturabiliriz. \n",
    "# Bunu Boyut Değişikliği Yapacağımız Zaman Çok Kullanacağız. Örnek Üzerinde Görelim : \n",
    "\n",
    "arr3d = np.arange(120) # 1 Boyutlu , 120 Elemanlı Bir Array Oluşturduk.\n",
    "arr3d"
   ]
  },
  {
   "cell_type": "code",
   "execution_count": 3,
   "id": "c63d0636",
   "metadata": {},
   "outputs": [
    {
     "data": {
      "text/plain": [
       "array([[[  0,   1,   2,   3,   4,   5],\n",
       "        [  6,   7,   8,   9,  10,  11],\n",
       "        [ 12,  13,  14,  15,  16,  17],\n",
       "        [ 18,  19,  20,  21,  22,  23],\n",
       "        [ 24,  25,  26,  27,  28,  29]],\n",
       "\n",
       "       [[ 30,  31,  32,  33,  34,  35],\n",
       "        [ 36,  37,  38,  39,  40,  41],\n",
       "        [ 42,  43,  44,  45,  46,  47],\n",
       "        [ 48,  49,  50,  51,  52,  53],\n",
       "        [ 54,  55,  56,  57,  58,  59]],\n",
       "\n",
       "       [[ 60,  61,  62,  63,  64,  65],\n",
       "        [ 66,  67,  68,  69,  70,  71],\n",
       "        [ 72,  73,  74,  75,  76,  77],\n",
       "        [ 78,  79,  80,  81,  82,  83],\n",
       "        [ 84,  85,  86,  87,  88,  89]],\n",
       "\n",
       "       [[ 90,  91,  92,  93,  94,  95],\n",
       "        [ 96,  97,  98,  99, 100, 101],\n",
       "        [102, 103, 104, 105, 106, 107],\n",
       "        [108, 109, 110, 111, 112, 113],\n",
       "        [114, 115, 116, 117, 118, 119]]])"
      ]
     },
     "execution_count": 3,
     "metadata": {},
     "output_type": "execute_result"
    }
   ],
   "source": [
    "arr3d.reshape(4,5,-1) # Burada 1 Boyutlu Ve 120 Karakterden Oluşan Array'i , 3 Boyutlu Bir Hale Getirmek İstediğimizi Düşünelim.\n",
    "                      # Boyutları Da (4,5,a) Olsun. Eğer a'yı Hesaplayamazsak Veya Hesaplamak İstemezsek -1 Koyarak Otomatik\n",
    "                      # Şekilde Matrisi Oluşturabiliyoruz. Ama Karakter Sayısı , Boyutlar Çarpımına Tam Bölünmüyorsa Hata Alırız."
   ]
  },
  {
   "cell_type": "code",
   "execution_count": 4,
   "id": "c5869bd4",
   "metadata": {},
   "outputs": [
    {
     "data": {
      "text/plain": [
       "array([[ 0,  1,  2,  3,  4],\n",
       "       [ 5,  6,  7,  8,  9],\n",
       "       [10, 11, 12, 13, 14],\n",
       "       [15, 16, 17, 18, 19],\n",
       "       [20, 21, 22, 23, 24],\n",
       "       [25, 26, 27, 28, 29],\n",
       "       [30, 31, 32, 33, 34],\n",
       "       [35, 36, 37, 38, 39]])"
      ]
     },
     "execution_count": 4,
     "metadata": {},
     "output_type": "execute_result"
    }
   ],
   "source": [
    "# Çok Boyutlu Array'leri , 1 Boyutlu Array'e Dönüştürmeye \"Flatten\" Denir.\n",
    "# .reshape(-1) Komutuyla Bu İşlemi Gerçekleştirebiliyoruz.\n",
    "arr2d = np.arange(40).reshape(8,5)\n",
    "arr2d"
   ]
  },
  {
   "cell_type": "code",
   "execution_count": 5,
   "id": "8ce32cbc",
   "metadata": {},
   "outputs": [
    {
     "data": {
      "text/plain": [
       "array([ 0,  1,  2,  3,  4,  5,  6,  7,  8,  9, 10, 11, 12, 13, 14, 15, 16,\n",
       "       17, 18, 19, 20, 21, 22, 23, 24, 25, 26, 27, 28, 29, 30, 31, 32, 33,\n",
       "       34, 35, 36, 37, 38, 39])"
      ]
     },
     "execution_count": 5,
     "metadata": {},
     "output_type": "execute_result"
    }
   ],
   "source": [
    "arr2d.reshape(-1) # Bu Şekilde Tek Boyuta İndirebiliyoruz. Bunu Tüm Boyutlara Uygulayabiliriz."
   ]
  },
  {
   "cell_type": "code",
   "execution_count": 6,
   "id": "465a1efe",
   "metadata": {},
   "outputs": [
    {
     "data": {
      "text/plain": [
       "array([0, 1, 2, 3, 4, 5, 6, 7, 8, 9])"
      ]
     },
     "execution_count": 6,
     "metadata": {},
     "output_type": "execute_result"
    }
   ],
   "source": [
    "# Bir Array'in Elemanlarını Döndürmeye \"Iteration\" Denir. \n",
    "arr1 = np.arange(10)\n",
    "arr1"
   ]
  },
  {
   "cell_type": "code",
   "execution_count": 7,
   "id": "64dddbc2",
   "metadata": {},
   "outputs": [
    {
     "name": "stdout",
     "output_type": "stream",
     "text": [
      "0\n",
      "1\n",
      "2\n",
      "3\n",
      "4\n",
      "5\n",
      "6\n",
      "7\n",
      "8\n",
      "9\n"
     ]
    }
   ],
   "source": [
    "for i in arr1: # 1 Boyutlu Array'in Iteration'u.\n",
    "    print(i)"
   ]
  },
  {
   "cell_type": "code",
   "execution_count": 8,
   "id": "a5f0adb1",
   "metadata": {},
   "outputs": [
    {
     "data": {
      "text/plain": [
       "array([[ 0,  1,  2,  3,  4],\n",
       "       [ 5,  6,  7,  8,  9],\n",
       "       [10, 11, 12, 13, 14],\n",
       "       [15, 16, 17, 18, 19]])"
      ]
     },
     "execution_count": 8,
     "metadata": {},
     "output_type": "execute_result"
    }
   ],
   "source": [
    "arr2 = np.arange(20).reshape(4,5)\n",
    "arr2"
   ]
  },
  {
   "cell_type": "code",
   "execution_count": 9,
   "id": "42280297",
   "metadata": {},
   "outputs": [
    {
     "name": "stdout",
     "output_type": "stream",
     "text": [
      "0\n",
      "1\n",
      "2\n",
      "3\n",
      "4\n",
      "5\n",
      "6\n",
      "7\n",
      "8\n",
      "9\n",
      "10\n",
      "11\n",
      "12\n",
      "13\n",
      "14\n",
      "15\n",
      "16\n",
      "17\n",
      "18\n",
      "19\n"
     ]
    }
   ],
   "source": [
    "for i in arr2:   # 2 Boyutlu Array'in Iteration'u. Kaç Boyutluysa O Kadar For Döngüsüyle Yapabiliriz.\n",
    "    for j in i:  # Ama Bu İşlem Yavaştır , Daha Hızlısını Da Göreceğiz. (.nditer())\n",
    "        print(j)"
   ]
  },
  {
   "cell_type": "code",
   "execution_count": 10,
   "id": "2e27b521",
   "metadata": {},
   "outputs": [
    {
     "data": {
      "text/plain": [
       "array([[[ 0,  1,  2,  3,  4],\n",
       "        [ 5,  6,  7,  8,  9]],\n",
       "\n",
       "       [[10, 11, 12, 13, 14],\n",
       "        [15, 16, 17, 18, 19]],\n",
       "\n",
       "       [[20, 21, 22, 23, 24],\n",
       "        [25, 26, 27, 28, 29]]])"
      ]
     },
     "execution_count": 10,
     "metadata": {},
     "output_type": "execute_result"
    }
   ],
   "source": [
    "# Çok Boyutlu Array'lerde nditer() Fonsksiyonunu Kullanacağız.\n",
    "arr3d = np.arange(30).reshape(3,2,5)\n",
    "arr3d"
   ]
  },
  {
   "cell_type": "code",
   "execution_count": 11,
   "id": "9f78d6f8",
   "metadata": {},
   "outputs": [
    {
     "name": "stdout",
     "output_type": "stream",
     "text": [
      "0\n",
      "1\n",
      "2\n",
      "3\n",
      "4\n",
      "5\n",
      "6\n",
      "7\n",
      "8\n",
      "9\n",
      "10\n",
      "11\n",
      "12\n",
      "13\n",
      "14\n",
      "15\n",
      "16\n",
      "17\n",
      "18\n",
      "19\n",
      "20\n",
      "21\n",
      "22\n",
      "23\n",
      "24\n",
      "25\n",
      "26\n",
      "27\n",
      "28\n",
      "29\n"
     ]
    }
   ],
   "source": [
    "for i in np.nditer(arr3d): # Bu Şekilde Defalarca For Döngüsü Kullanmadan Elemanları Gezebiliriz.\n",
    "    print(i)"
   ]
  },
  {
   "cell_type": "code",
   "execution_count": 12,
   "id": "a61c64ad",
   "metadata": {},
   "outputs": [
    {
     "data": {
      "text/plain": [
       "array([7, 4, 9, 6, 8, 6, 5, 1, 3, 4])"
      ]
     },
     "execution_count": 12,
     "metadata": {},
     "output_type": "execute_result"
    }
   ],
   "source": [
    "arr = np.random.randint(0, 10, 10)\n",
    "arr"
   ]
  },
  {
   "cell_type": "code",
   "execution_count": 13,
   "id": "c9637934",
   "metadata": {},
   "outputs": [
    {
     "data": {
      "text/plain": [
       "53"
      ]
     },
     "execution_count": 13,
     "metadata": {},
     "output_type": "execute_result"
    }
   ],
   "source": [
    "arr.sum() # Array'deki Değerlerin Toplamını Döndürür."
   ]
  },
  {
   "cell_type": "code",
   "execution_count": 14,
   "id": "d352c1bd",
   "metadata": {},
   "outputs": [
    {
     "data": {
      "text/plain": [
       "5.3"
      ]
     },
     "execution_count": 14,
     "metadata": {},
     "output_type": "execute_result"
    }
   ],
   "source": [
    "arr.mean() # Array'daki Değerlerin Ortalamasını Döndürür."
   ]
  },
  {
   "cell_type": "code",
   "execution_count": 15,
   "id": "3d64dba4",
   "metadata": {},
   "outputs": [
    {
     "data": {
      "text/plain": [
       "5.21"
      ]
     },
     "execution_count": 15,
     "metadata": {},
     "output_type": "execute_result"
    }
   ],
   "source": [
    "arr.var() # Array'deki Değerlerin Varyansını Döndürür."
   ]
  },
  {
   "cell_type": "code",
   "execution_count": 16,
   "id": "94fa0de8",
   "metadata": {},
   "outputs": [
    {
     "data": {
      "text/plain": [
       "2.2825424421026654"
      ]
     },
     "execution_count": 16,
     "metadata": {},
     "output_type": "execute_result"
    }
   ],
   "source": [
    "arr.std() # Array'deki Değerlerin Standart Sapmasını Döndürür. \n",
    "          # Standart Sapma , Varyansın Kareköküdür."
   ]
  },
  {
   "cell_type": "code",
   "execution_count": 17,
   "id": "dc128c19",
   "metadata": {},
   "outputs": [
    {
     "data": {
      "text/plain": [
       "array([2.64575131, 2.        , 3.        , 2.44948974, 2.82842712,\n",
       "       2.44948974, 2.23606798, 1.        , 1.73205081, 2.        ])"
      ]
     },
     "execution_count": 17,
     "metadata": {},
     "output_type": "execute_result"
    }
   ],
   "source": [
    "np.sqrt(arr) # Array'deki Değerlerin Köklerini Döndürür."
   ]
  },
  {
   "cell_type": "code",
   "execution_count": 18,
   "id": "bbf2bf2e",
   "metadata": {},
   "outputs": [
    {
     "data": {
      "text/plain": [
       "array([ 0.6569866 , -0.7568025 ,  0.41211849, -0.2794155 ,  0.98935825,\n",
       "       -0.2794155 , -0.95892427,  0.84147098,  0.14112001, -0.7568025 ])"
      ]
     },
     "execution_count": 18,
     "metadata": {},
     "output_type": "execute_result"
    }
   ],
   "source": [
    "np.sin(arr) # Array'deki Değerlerin Sinüs Değerlerini Döndürür."
   ]
  },
  {
   "cell_type": "code",
   "execution_count": null,
   "id": "7afafa9b",
   "metadata": {},
   "outputs": [],
   "source": []
  }
 ],
 "metadata": {
  "kernelspec": {
   "display_name": "Python 3 (ipykernel)",
   "language": "python",
   "name": "python3"
  },
  "language_info": {
   "codemirror_mode": {
    "name": "ipython",
    "version": 3
   },
   "file_extension": ".py",
   "mimetype": "text/x-python",
   "name": "python",
   "nbconvert_exporter": "python",
   "pygments_lexer": "ipython3",
   "version": "3.9.12"
  }
 },
 "nbformat": 4,
 "nbformat_minor": 5
}
