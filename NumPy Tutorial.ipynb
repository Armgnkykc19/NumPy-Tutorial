{
 "cells": [
  {
   "cell_type": "code",
   "execution_count": 2,
   "id": "87847475",
   "metadata": {},
   "outputs": [],
   "source": [
    "import numpy as np"
   ]
  },
  {
   "cell_type": "code",
   "execution_count": 3,
   "id": "1f1d7e3c",
   "metadata": {},
   "outputs": [
    {
     "data": {
      "text/plain": [
       "array([[1., 0., 0., 0.],\n",
       "       [0., 1., 0., 0.],\n",
       "       [0., 0., 1., 0.],\n",
       "       [0., 0., 0., 1.]])"
      ]
     },
     "execution_count": 3,
     "metadata": {},
     "output_type": "execute_result"
    }
   ],
   "source": [
    "np.eye(4)"
   ]
  },
  {
   "cell_type": "code",
   "execution_count": 4,
   "id": "cf881313",
   "metadata": {},
   "outputs": [
    {
     "data": {
      "text/plain": [
       "array([[0, 0, 0, 0, 0, 0],\n",
       "       [0, 0, 0, 0, 0, 0]])"
      ]
     },
     "execution_count": 4,
     "metadata": {},
     "output_type": "execute_result"
    }
   ],
   "source": [
    "np.zeros((2,6), dtype = int)"
   ]
  },
  {
   "cell_type": "code",
   "execution_count": 5,
   "id": "e88d9701",
   "metadata": {},
   "outputs": [
    {
     "data": {
      "text/plain": [
       "array([0.27611518, 0.61108427, 0.03543773])"
      ]
     },
     "execution_count": 5,
     "metadata": {},
     "output_type": "execute_result"
    }
   ],
   "source": [
    "np.random.rand(3)  # 0 İle 1 Arasında İçine Verdiğimiz Parametre Kadar Adette Rastgele Değerler Üretir."
   ]
  },
  {
   "cell_type": "code",
   "execution_count": 6,
   "id": "1c3567c4",
   "metadata": {},
   "outputs": [
    {
     "data": {
      "text/plain": [
       "array([[0.1827509 , 0.12868   , 0.09305914, 0.20357729],\n",
       "       [0.73014275, 0.9772985 , 0.77503627, 0.25410281]])"
      ]
     },
     "execution_count": 6,
     "metadata": {},
     "output_type": "execute_result"
    }
   ],
   "source": [
    "np.random.rand(2,4) # Vereceğimiz Parametre İle Çok Boyutlu Dizi De Oluşturabiliriz."
   ]
  },
  {
   "cell_type": "code",
   "execution_count": 7,
   "id": "41ac9a31",
   "metadata": {},
   "outputs": [
    {
     "data": {
      "text/plain": [
       "array([[7.01597061, 2.70860135, 3.67436622],\n",
       "       [6.29821398, 3.28460991, 2.46110606]])"
      ]
     },
     "execution_count": 7,
     "metadata": {},
     "output_type": "execute_result"
    }
   ],
   "source": [
    "np.random.rand(2, 3) * 10 # Bu Şekilde Değerler 0 İle 1 Değil , 0 İle 10 Arasında Olacak Ama Bunun Daha Kolay Bir Yolu Da Var."
   ]
  },
  {
   "cell_type": "code",
   "execution_count": 8,
   "id": "525f4ba1",
   "metadata": {},
   "outputs": [
    {
     "data": {
      "text/plain": [
       "array([39, 49, 44, 48, 31])"
      ]
     },
     "execution_count": 8,
     "metadata": {},
     "output_type": "execute_result"
    }
   ],
   "source": [
    "np.random.randint(15, 50, 5) # Rastgele Bir Array Oluşturmada Kullanılır. Başlangıç Ve Bitiş Değeri , Değer Adedi Parametrelerini Alır."
   ]
  },
  {
   "cell_type": "code",
   "execution_count": 9,
   "id": "82f64357",
   "metadata": {},
   "outputs": [
    {
     "data": {
      "text/plain": [
       "array([[12, 76, 25, 39],\n",
       "       [41, 76, 60, 73],\n",
       "       [33, 51, 88, 77]])"
      ]
     },
     "execution_count": 9,
     "metadata": {},
     "output_type": "execute_result"
    }
   ],
   "source": [
    "np.random.randint(0, 100, (3,4)) #Çok Boyutlu Array Oluşturmak İstersek, Değer Adedi Yerine (x,y) Şeklinde Parametre Giriyoruz."
   ]
  },
  {
   "cell_type": "code",
   "execution_count": 10,
   "id": "eccc7a14",
   "metadata": {},
   "outputs": [
    {
     "data": {
      "text/plain": [
       "array([[15, 39,  9,  6, 25,  4],\n",
       "       [16,  7, 18, 21,  5, 41],\n",
       "       [20, 14,  9, 21, 28,  1],\n",
       "       [22, 36, 10, 26, 49,  4]])"
      ]
     },
     "execution_count": 10,
     "metadata": {},
     "output_type": "execute_result"
    }
   ],
   "source": [
    "np.random.randint(0, 50, (4,6))"
   ]
  },
  {
   "cell_type": "code",
   "execution_count": 11,
   "id": "49e41336",
   "metadata": {},
   "outputs": [],
   "source": [
    "arr2d = np.array([[1,2,3], [4,5,6], [7,8,9], [10,11,12]])"
   ]
  },
  {
   "cell_type": "code",
   "execution_count": 12,
   "id": "450910e8",
   "metadata": {},
   "outputs": [
    {
     "data": {
      "text/plain": [
       "2"
      ]
     },
     "execution_count": 12,
     "metadata": {},
     "output_type": "execute_result"
    }
   ],
   "source": [
    "arr2d.ndim #.ndim Metodu , Bir NumPy Array'inin Kaç Boyutlu Olduğunu Gösterir. (num (?) dimension)"
   ]
  },
  {
   "cell_type": "code",
   "execution_count": 13,
   "id": "69df84ba",
   "metadata": {},
   "outputs": [
    {
     "data": {
      "text/plain": [
       "(4, 3)"
      ]
     },
     "execution_count": 13,
     "metadata": {},
     "output_type": "execute_result"
    }
   ],
   "source": [
    "arr2d.shape #.shape Metodu , Bir Array'in Şeklini (Satır , Sütun) Döndürür. "
   ]
  },
  {
   "cell_type": "code",
   "execution_count": 14,
   "id": "ffb26015",
   "metadata": {},
   "outputs": [],
   "source": [
    "arr3d = np.random.randint(0, 10, (2, 3, 4))"
   ]
  },
  {
   "cell_type": "code",
   "execution_count": 15,
   "id": "657f9c6c",
   "metadata": {},
   "outputs": [
    {
     "data": {
      "text/plain": [
       "array([[[4, 9, 0, 4],\n",
       "        [7, 5, 0, 2],\n",
       "        [3, 3, 7, 2]],\n",
       "\n",
       "       [[0, 6, 5, 2],\n",
       "        [1, 0, 2, 1],\n",
       "        [4, 1, 2, 6]]])"
      ]
     },
     "execution_count": 15,
     "metadata": {},
     "output_type": "execute_result"
    }
   ],
   "source": [
    "arr3d"
   ]
  },
  {
   "cell_type": "code",
   "execution_count": 16,
   "id": "b5ec2bc6",
   "metadata": {},
   "outputs": [
    {
     "data": {
      "text/plain": [
       "(2, 3, 4)"
      ]
     },
     "execution_count": 16,
     "metadata": {},
     "output_type": "execute_result"
    }
   ],
   "source": [
    "arr3d.shape #.shape Metodunun 3 Boyutlu Bir Array Üzerinden Örneği. 2 = Kaç Tane Grup Var ? , 3 = Her Grupta Kaç Satır Var? , 4 = Her Grupta Kaç Sütun Var?"
   ]
  },
  {
   "cell_type": "code",
   "execution_count": 17,
   "id": "7a240735",
   "metadata": {},
   "outputs": [],
   "source": [
    "arr1d = np.random.randint(53, 61, 7, dtype = int)"
   ]
  },
  {
   "cell_type": "code",
   "execution_count": 18,
   "id": "0cc7344c",
   "metadata": {},
   "outputs": [
    {
     "data": {
      "text/plain": [
       "57"
      ]
     },
     "execution_count": 18,
     "metadata": {},
     "output_type": "execute_result"
    }
   ],
   "source": [
    "arr1d = np.arange(53, 61)\n",
    "arr1d[4]"
   ]
  },
  {
   "cell_type": "code",
   "execution_count": 19,
   "id": "9a67445b",
   "metadata": {},
   "outputs": [
    {
     "data": {
      "text/plain": [
       "array([12,  9, 14, 10, 13,  1,  1])"
      ]
     },
     "execution_count": 19,
     "metadata": {},
     "output_type": "execute_result"
    }
   ],
   "source": [
    "arr = np.random.randint(1, 20, 7)\n",
    "arr"
   ]
  },
  {
   "cell_type": "code",
   "execution_count": 20,
   "id": "275f0a67",
   "metadata": {},
   "outputs": [
    {
     "data": {
      "text/plain": [
       "14"
      ]
     },
     "execution_count": 20,
     "metadata": {},
     "output_type": "execute_result"
    }
   ],
   "source": [
    "arr.max() # Bir Array'deki En Yüksek Sayıyı Döndürür."
   ]
  },
  {
   "cell_type": "code",
   "execution_count": 21,
   "id": "341e0516",
   "metadata": {},
   "outputs": [
    {
     "data": {
      "text/plain": [
       "1"
      ]
     },
     "execution_count": 21,
     "metadata": {},
     "output_type": "execute_result"
    }
   ],
   "source": [
    "arr.min() # Bir Array'deki En Küçük Sayıyı Döndürür."
   ]
  },
  {
   "cell_type": "code",
   "execution_count": 22,
   "id": "d1b25716",
   "metadata": {},
   "outputs": [
    {
     "data": {
      "text/plain": [
       "2"
      ]
     },
     "execution_count": 22,
     "metadata": {},
     "output_type": "execute_result"
    }
   ],
   "source": [
    "arr.argmax() # Bir Array'deki En Büyük Sayının İndex'ini Döndürür."
   ]
  },
  {
   "cell_type": "code",
   "execution_count": 23,
   "id": "b150d0cf",
   "metadata": {},
   "outputs": [
    {
     "data": {
      "text/plain": [
       "5"
      ]
     },
     "execution_count": 23,
     "metadata": {},
     "output_type": "execute_result"
    }
   ],
   "source": [
    "arr.argmin() # Bir Array'deki En Küçük Sayının İndex'ini Döndürür."
   ]
  },
  {
   "cell_type": "code",
   "execution_count": 24,
   "id": "c319e6ac",
   "metadata": {},
   "outputs": [
    {
     "data": {
      "text/plain": [
       "array([50, 51, 52, 53, 54, 55, 56, 57, 58, 59, 60, 61, 62, 63, 64])"
      ]
     },
     "execution_count": 24,
     "metadata": {},
     "output_type": "execute_result"
    }
   ],
   "source": [
    "arr1 = np.arange(50, 65)\n",
    "arr1"
   ]
  },
  {
   "cell_type": "code",
   "execution_count": 25,
   "id": "b1a1d297",
   "metadata": {},
   "outputs": [
    {
     "data": {
      "text/plain": [
       "array([55, 56, 57, 58, 59, 60])"
      ]
     },
     "execution_count": 25,
     "metadata": {},
     "output_type": "execute_result"
    }
   ],
   "source": [
    "arr2 = arr1[5:11] # Array'lerde İstediğimiz Değerleri Almamızı Sağlar. Buna \"Slicing\" Denir. Listelerdeki Mantıkla Aynı.\n",
    "arr2"
   ]
  },
  {
   "cell_type": "code",
   "execution_count": 26,
   "id": "3267eb51",
   "metadata": {},
   "outputs": [
    {
     "data": {
      "text/plain": [
       "array([56, 57, 58, 59, 60])"
      ]
     },
     "execution_count": 26,
     "metadata": {},
     "output_type": "execute_result"
    }
   ],
   "source": [
    "arr2[-5: ] # Negatif İndex Kullanarak Da Slicing Yapılabilir."
   ]
  },
  {
   "cell_type": "code",
   "execution_count": 27,
   "id": "e652c606",
   "metadata": {},
   "outputs": [
    {
     "data": {
      "text/plain": [
       "array([53, 55, 57, 59])"
      ]
     },
     "execution_count": 27,
     "metadata": {},
     "output_type": "execute_result"
    }
   ],
   "source": [
    "arr1[3:10:2] # Slicing Yaparken 3. Bir Parametre Daha Verebiliriz. Bu Parametre, Alacağımız Değerlerin İndex Farkını Gösterir."
   ]
  },
  {
   "cell_type": "code",
   "execution_count": 28,
   "id": "a8ded3a1",
   "metadata": {},
   "outputs": [
    {
     "data": {
      "text/plain": [
       "array([50, 51, 19, 19, 54, 55, 56, 57, 58, 59, 60, 61, 62, 63, 64])"
      ]
     },
     "execution_count": 28,
     "metadata": {},
     "output_type": "execute_result"
    }
   ],
   "source": [
    "arr1[2:4] = 19 # Bir Array'da İstediğimiz Bir Kısmı, Başka Bir Sayıyla Değiştirebiliyoruz. Buna \"Broadcasting\" Deniyor.\n",
    "arr1           # Bu İşlem, Pandas'ın Temelini Oluşturuyor , Bu İşlemleri Pandas'ta Sütunlara Uyguluyoruz."
   ]
  },
  {
   "cell_type": "code",
   "execution_count": 29,
   "id": "c41ec9e2",
   "metadata": {},
   "outputs": [
    {
     "data": {
      "text/plain": [
       "array([-1, 29, 20, 22, 10, 28, 24,  0, -1, 25,  6, 22, 14,  8])"
      ]
     },
     "execution_count": 29,
     "metadata": {},
     "output_type": "execute_result"
    }
   ],
   "source": [
    "arr3 = np.random.randint(-5, 30, 25) # Bir Örneğin Çözümü\n",
    "arr3[5: 19]"
   ]
  },
  {
   "cell_type": "code",
   "execution_count": 30,
   "id": "1e5a865b",
   "metadata": {},
   "outputs": [
    {
     "data": {
      "text/plain": [
       "array([0, 1, 2, 3, 4, 5, 6, 7, 8, 9])"
      ]
     },
     "execution_count": 30,
     "metadata": {},
     "output_type": "execute_result"
    }
   ],
   "source": [
    "arr4 = np.arange(0, 10)\n",
    "arr4"
   ]
  },
  {
   "cell_type": "code",
   "execution_count": 31,
   "id": "7968674a",
   "metadata": {},
   "outputs": [
    {
     "data": {
      "text/plain": [
       "dtype('int32')"
      ]
     },
     "execution_count": 31,
     "metadata": {},
     "output_type": "execute_result"
    }
   ],
   "source": [
    "arr4.dtype # .dtype , Bir Array'in İçindeki Değerlerin Hangi Veri Tipine Ait Olduğunu Söyler."
   ]
  },
  {
   "cell_type": "code",
   "execution_count": 34,
   "id": "fbb5fce2",
   "metadata": {},
   "outputs": [
    {
     "data": {
      "text/plain": [
       "array([50. , 52.5, 55. , 57.5, 60. ])"
      ]
     },
     "execution_count": 34,
     "metadata": {},
     "output_type": "execute_result"
    }
   ],
   "source": [
    "arr5 = np.linspace(50,60,5)\n",
    "arr5"
   ]
  },
  {
   "cell_type": "code",
   "execution_count": 35,
   "id": "bf86096e",
   "metadata": {},
   "outputs": [
    {
     "data": {
      "text/plain": [
       "dtype('float64')"
      ]
     },
     "execution_count": 35,
     "metadata": {},
     "output_type": "execute_result"
    }
   ],
   "source": [
    "arr5.dtype # Array'in İçinde 1 Tane Bile Float Varsa \"Float\" Döndürür."
   ]
  },
  {
   "cell_type": "code",
   "execution_count": 40,
   "id": "14cd3c6a",
   "metadata": {},
   "outputs": [
    {
     "data": {
      "text/plain": [
       "dtype('int32')"
      ]
     },
     "execution_count": 40,
     "metadata": {},
     "output_type": "execute_result"
    }
   ],
   "source": [
    "arr6 = np.array([1.2, 3.4, 5.6, 7.8, 9.0])\n",
    "arr7 = arr6.astype(\"int\") # .astype() Metodu, Bir Array'in Data Type'ını Değiştirmeye Yarar , Kayıplar Olabilir!\n",
    "arr7.dtype"
   ]
  },
  {
   "cell_type": "code",
   "execution_count": 41,
   "id": "7d32588d",
   "metadata": {},
   "outputs": [
    {
     "data": {
      "text/plain": [
       "dtype('int32')"
      ]
     },
     "execution_count": 41,
     "metadata": {},
     "output_type": "execute_result"
    }
   ],
   "source": [
    "arr8 = np.array(['5', '7', '19', '1', '22', '99', '4'])\n",
    "arr9 = arr8.astype(\"int\")\n",
    "arr9.dtype"
   ]
  },
  {
   "cell_type": "code",
   "execution_count": null,
   "id": "56c9fcbe",
   "metadata": {},
   "outputs": [],
   "source": []
  }
 ],
 "metadata": {
  "kernelspec": {
   "display_name": "Python 3 (ipykernel)",
   "language": "python",
   "name": "python3"
  },
  "language_info": {
   "codemirror_mode": {
    "name": "ipython",
    "version": 3
   },
   "file_extension": ".py",
   "mimetype": "text/x-python",
   "name": "python",
   "nbconvert_exporter": "python",
   "pygments_lexer": "ipython3",
   "version": "3.9.12"
  }
 },
 "nbformat": 4,
 "nbformat_minor": 5
}
