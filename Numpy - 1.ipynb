{
 "cells": [
  {
   "cell_type": "code",
   "execution_count": 1,
   "id": "377dd9a2",
   "metadata": {},
   "outputs": [],
   "source": [
    "import numpy as np "
   ]
  },
  {
   "cell_type": "code",
   "execution_count": 4,
   "id": "640b4679",
   "metadata": {},
   "outputs": [
    {
     "data": {
      "text/plain": [
       "array([0, 0, 0])"
      ]
     },
     "execution_count": 4,
     "metadata": {},
     "output_type": "execute_result"
    }
   ],
   "source": [
    "np.zeros(3, dtype = int)"
   ]
  },
  {
   "cell_type": "code",
   "execution_count": 10,
   "id": "67e405ff",
   "metadata": {},
   "outputs": [
    {
     "data": {
      "text/plain": [
       "array([[[ 1,  2,  3],\n",
       "        [ 4,  5,  6]],\n",
       "\n",
       "       [[ 7,  8,  9],\n",
       "        [10, 11, 12]]])"
      ]
     },
     "execution_count": 10,
     "metadata": {},
     "output_type": "execute_result"
    }
   ],
   "source": [
    "arr3d = np.array([[[1, 2, 3], [4, 5, 6]], [[7, 8, 9], [10, 11, 12]]])\n",
    "\n",
    "arr3d"
   ]
  },
  {
   "cell_type": "code",
   "execution_count": 11,
   "id": "aba0cf4d",
   "metadata": {},
   "outputs": [
    {
     "data": {
      "text/plain": [
       "2"
      ]
     },
     "execution_count": 11,
     "metadata": {},
     "output_type": "execute_result"
    }
   ],
   "source": [
    "arr3d[0][0][1]"
   ]
  },
  {
   "cell_type": "code",
   "execution_count": 15,
   "id": "e109ccc3",
   "metadata": {},
   "outputs": [
    {
     "data": {
      "text/plain": [
       "array([[1, 2, 3],\n",
       "       [4, 5, 6]])"
      ]
     },
     "execution_count": 15,
     "metadata": {},
     "output_type": "execute_result"
    }
   ],
   "source": [
    "arr2d = np.array([[1, 2, 3] , [4, 5, 6]])\n",
    "arr2d"
   ]
  },
  {
   "cell_type": "code",
   "execution_count": 21,
   "id": "6e6839ad",
   "metadata": {},
   "outputs": [
    {
     "data": {
      "text/plain": [
       "array([ 0,  2,  4,  6,  8, 10, 12, 14, 16, 18])"
      ]
     },
     "execution_count": 21,
     "metadata": {},
     "output_type": "execute_result"
    }
   ],
   "source": [
    "np.arange(0, 20, 2) #.arange Metodu , Bir Start Noktası (Dahil) , Bir End Noktası (Dahil Değil!) Ve Aralık Değeri Parametrelerini Alır."
   ]
  },
  {
   "cell_type": "code",
   "execution_count": 22,
   "id": "3798a2f9",
   "metadata": {},
   "outputs": [
    {
     "data": {
      "text/plain": [
       "array([ 50. ,  52.5,  55. ,  57.5,  60. ,  62.5,  65. ,  67.5,  70. ,\n",
       "        72.5,  75. ,  77.5,  80. ,  82.5,  85. ,  87.5,  90. ,  92.5,\n",
       "        95. ,  97.5, 100. ])"
      ]
     },
     "execution_count": 22,
     "metadata": {},
     "output_type": "execute_result"
    }
   ],
   "source": [
    "np.linspace(50, 100, 21) #.linspace Metodu , Bir Start Noktası (Dahil) , Bir End Noktası (Dahil) Ve Oluşturulacak Değer Sayısı Parametrelerini Alır."
   ]
  },
  {
   "cell_type": "code",
   "execution_count": 26,
   "id": "e6969955",
   "metadata": {},
   "outputs": [
    {
     "data": {
      "text/plain": [
       "array([  10.        ,   16.68100537,   27.82559402,   46.41588834,\n",
       "         77.42636827,  129.1549665 ,  215.443469  ,  359.38136638,\n",
       "        599.48425032, 1000.        ])"
      ]
     },
     "execution_count": 26,
     "metadata": {},
     "output_type": "execute_result"
    }
   ],
   "source": [
    "np.logspace(1, 3, 10) #.logspace Metodu , Bir Start Değeri (Dahil) , Bir End Değeri (Dahik) Ve Değer Sayısı Parametrelerini Alır.\n",
    "                      # 10'luk Tabanda Start Değerinden Başlayarak (10 ** Start Değeri) , 10'luk Tabanda End Değerine Kadar (10 ** End Değeri) , Girilen Değer Sayısı Kadar Sayı Üretir."
   ]
  },
  {
   "cell_type": "code",
   "execution_count": 28,
   "id": "a0f6b8f2",
   "metadata": {},
   "outputs": [
    {
     "data": {
      "text/plain": [
       "array([ 10,  15,  20,  25,  30,  35,  40,  45,  50,  55,  60,  65,  70,\n",
       "        75,  80,  85,  90,  95, 100])"
      ]
     },
     "execution_count": 28,
     "metadata": {},
     "output_type": "execute_result"
    }
   ],
   "source": [
    "np.arange(10, 101, 5)"
   ]
  },
  {
   "cell_type": "code",
   "execution_count": 31,
   "id": "51530f5f",
   "metadata": {},
   "outputs": [
    {
     "data": {
      "text/plain": [
       "array([   0,   40,   80,  120,  160,  200,  240,  280,  320,  360,  400,\n",
       "        440,  480,  520,  560,  600,  640,  680,  720,  760,  800,  840,\n",
       "        880,  920,  960, 1000])"
      ]
     },
     "execution_count": 31,
     "metadata": {},
     "output_type": "execute_result"
    }
   ],
   "source": [
    "np.linspace(0, 1000, 26, dtype = int)"
   ]
  },
  {
   "cell_type": "code",
   "execution_count": 32,
   "id": "ba7bcd41",
   "metadata": {},
   "outputs": [
    {
     "data": {
      "text/plain": [
       "array([0, 0, 0, 0, 0])"
      ]
     },
     "execution_count": 32,
     "metadata": {},
     "output_type": "execute_result"
    }
   ],
   "source": [
    "np.zeros(5, dtype = int)"
   ]
  },
  {
   "cell_type": "code",
   "execution_count": 35,
   "id": "0c8ca712",
   "metadata": {},
   "outputs": [
    {
     "data": {
      "text/plain": [
       "array([[0, 0, 0],\n",
       "       [0, 0, 0]])"
      ]
     },
     "execution_count": 35,
     "metadata": {},
     "output_type": "execute_result"
    }
   ],
   "source": [
    "np.zeros((2, 3), dtype = int)"
   ]
  },
  {
   "cell_type": "code",
   "execution_count": null,
   "id": "ad90648d",
   "metadata": {},
   "outputs": [],
   "source": []
  }
 ],
 "metadata": {
  "kernelspec": {
   "display_name": "Python 3 (ipykernel)",
   "language": "python",
   "name": "python3"
  },
  "language_info": {
   "codemirror_mode": {
    "name": "ipython",
    "version": 3
   },
   "file_extension": ".py",
   "mimetype": "text/x-python",
   "name": "python",
   "nbconvert_exporter": "python",
   "pygments_lexer": "ipython3",
   "version": "3.9.12"
  }
 },
 "nbformat": 4,
 "nbformat_minor": 5
}
