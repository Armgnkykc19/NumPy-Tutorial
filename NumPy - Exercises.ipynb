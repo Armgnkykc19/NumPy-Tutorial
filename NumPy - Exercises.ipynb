{
 "cells": [
  {
   "cell_type": "code",
   "execution_count": 1,
   "id": "4f462065",
   "metadata": {},
   "outputs": [],
   "source": [
    "import numpy as np"
   ]
  },
  {
   "cell_type": "code",
   "execution_count": 2,
   "id": "4af28e32",
   "metadata": {},
   "outputs": [],
   "source": [
    "arr3d = np.array([[[4, 9, 0, 4],\n",
    "        [7, 5, 0, 2],\n",
    "        [3, 3, 7, 2]],\n",
    "\n",
    "       [[0, 6, 5, 2],\n",
    "        [1, 0, 2, 1],\n",
    "        [4, 1, 2, 6]]])      #1"
   ]
  },
  {
   "cell_type": "code",
   "execution_count": 3,
   "id": "ce53bc62",
   "metadata": {},
   "outputs": [
    {
     "data": {
      "text/plain": [
       "3"
      ]
     },
     "execution_count": 3,
     "metadata": {},
     "output_type": "execute_result"
    }
   ],
   "source": [
    "arr3d.ndim"
   ]
  },
  {
   "cell_type": "code",
   "execution_count": 4,
   "id": "d27c3fe3",
   "metadata": {},
   "outputs": [
    {
     "data": {
      "text/plain": [
       "array([ 34,  40,  46,  52,  58,  64,  70,  76,  82,  88,  94, 100, 106,\n",
       "       112])"
      ]
     },
     "execution_count": 4,
     "metadata": {},
     "output_type": "execute_result"
    }
   ],
   "source": [
    "arr1 = np.arange(34 , 115, 6)\n",
    "arr1 #2"
   ]
  },
  {
   "cell_type": "code",
   "execution_count": 5,
   "id": "83635765",
   "metadata": {},
   "outputs": [
    {
     "data": {
      "text/plain": [
       "array([ 50.,  55.,  60.,  65.,  70.,  75.,  80.,  85.,  90.,  95., 100.,\n",
       "       105., 110., 115., 120., 125., 130., 135., 140., 145., 150., 155.,\n",
       "       160., 165., 170., 175., 180., 185., 190., 195., 200., 205., 210.,\n",
       "       215., 220., 225., 230., 235., 240., 245., 250., 255., 260., 265.,\n",
       "       270., 275., 280., 285., 290., 295., 300., 305., 310., 315., 320.,\n",
       "       325., 330., 335., 340., 345., 350., 355., 360., 365., 370., 375.,\n",
       "       380., 385., 390., 395., 400., 405., 410., 415., 420., 425., 430.,\n",
       "       435., 440., 445., 450., 455., 460., 465., 470., 475., 480., 485.,\n",
       "       490., 495., 500.])"
      ]
     },
     "execution_count": 5,
     "metadata": {},
     "output_type": "execute_result"
    }
   ],
   "source": [
    "arr2 = np.linspace(50, 500, 91)\n",
    "arr2 #3"
   ]
  },
  {
   "cell_type": "code",
   "execution_count": 6,
   "id": "82573452",
   "metadata": {},
   "outputs": [
    {
     "data": {
      "text/plain": [
       "array([   100.        ,    268.26957953,    719.685673  ,   1930.69772888,\n",
       "         5179.47467923,  13894.95494373,  37275.93720315, 100000.        ])"
      ]
     },
     "execution_count": 6,
     "metadata": {},
     "output_type": "execute_result"
    }
   ],
   "source": [
    "arr3 = np.logspace(2, 5, 8)\n",
    "arr3 #4"
   ]
  },
  {
   "cell_type": "code",
   "execution_count": 7,
   "id": "320e4a71",
   "metadata": {},
   "outputs": [
    {
     "data": {
      "text/plain": [
       "array([[0, 1, 2],\n",
       "       [3, 4, 5],\n",
       "       [6, 7, 8]])"
      ]
     },
     "execution_count": 7,
     "metadata": {},
     "output_type": "execute_result"
    }
   ],
   "source": [
    "arr4 = np.arange(9).reshape(3,3)\n",
    "arr4 #5"
   ]
  },
  {
   "cell_type": "code",
   "execution_count": 8,
   "id": "57a2f514",
   "metadata": {},
   "outputs": [
    {
     "data": {
      "text/plain": [
       "array([[0, 0, 0, 0, 0, 0],\n",
       "       [0, 0, 0, 0, 0, 0],\n",
       "       [0, 0, 0, 0, 0, 0],\n",
       "       [0, 0, 0, 0, 0, 0],\n",
       "       [0, 0, 0, 0, 0, 0],\n",
       "       [0, 0, 0, 0, 0, 0]])"
      ]
     },
     "execution_count": 8,
     "metadata": {},
     "output_type": "execute_result"
    }
   ],
   "source": [
    "arr5 = np.zeros((6,6), dtype = int)\n",
    "arr5 #6"
   ]
  },
  {
   "cell_type": "code",
   "execution_count": 9,
   "id": "8381ec8a",
   "metadata": {},
   "outputs": [
    {
     "data": {
      "text/plain": [
       "array([[1, 1, 1, 1],\n",
       "       [1, 1, 1, 1],\n",
       "       [1, 1, 1, 1],\n",
       "       [1, 1, 1, 1]])"
      ]
     },
     "execution_count": 9,
     "metadata": {},
     "output_type": "execute_result"
    }
   ],
   "source": [
    "arr6 = np.ones((4,4), dtype = int)\n",
    "arr6 #7"
   ]
  },
  {
   "cell_type": "code",
   "execution_count": 10,
   "id": "4a568a25",
   "metadata": {},
   "outputs": [
    {
     "data": {
      "text/plain": [
       "array([[1, 0, 0, 0, 0, 0, 0, 0],\n",
       "       [0, 1, 0, 0, 0, 0, 0, 0],\n",
       "       [0, 0, 1, 0, 0, 0, 0, 0],\n",
       "       [0, 0, 0, 1, 0, 0, 0, 0],\n",
       "       [0, 0, 0, 0, 1, 0, 0, 0],\n",
       "       [0, 0, 0, 0, 0, 1, 0, 0],\n",
       "       [0, 0, 0, 0, 0, 0, 1, 0],\n",
       "       [0, 0, 0, 0, 0, 0, 0, 1]])"
      ]
     },
     "execution_count": 10,
     "metadata": {},
     "output_type": "execute_result"
    }
   ],
   "source": [
    "arr7 = np.eye(8, dtype = int)\n",
    "arr7 #8"
   ]
  },
  {
   "cell_type": "code",
   "execution_count": 11,
   "id": "9ff24beb",
   "metadata": {},
   "outputs": [
    {
     "data": {
      "text/plain": [
       "array([[3, 0, 0, 0, 0],\n",
       "       [0, 3, 0, 0, 0],\n",
       "       [0, 0, 3, 0, 0],\n",
       "       [0, 0, 0, 3, 0],\n",
       "       [0, 0, 0, 0, 3]])"
      ]
     },
     "execution_count": 11,
     "metadata": {},
     "output_type": "execute_result"
    }
   ],
   "source": [
    "arr8 = np.eye(5, dtype = int) * 3\n",
    "arr8 #9"
   ]
  },
  {
   "cell_type": "code",
   "execution_count": 12,
   "id": "c4bd4d66",
   "metadata": {},
   "outputs": [
    {
     "data": {
      "text/plain": [
       "array([0.50384759, 0.92705974, 0.00409209, 0.85865631, 0.53737759,\n",
       "       0.53705857])"
      ]
     },
     "execution_count": 12,
     "metadata": {},
     "output_type": "execute_result"
    }
   ],
   "source": [
    "arr9 = np.random.rand(6)\n",
    "arr9 #10"
   ]
  },
  {
   "cell_type": "code",
   "execution_count": 13,
   "id": "64b16ebd",
   "metadata": {},
   "outputs": [
    {
     "data": {
      "text/plain": [
       "(5, 2)"
      ]
     },
     "execution_count": 13,
     "metadata": {},
     "output_type": "execute_result"
    }
   ],
   "source": [
    "arr10 = np.random.randint(50, 100, (5,2))\n",
    "arr10 \n",
    "arr10.shape #11"
   ]
  },
  {
   "cell_type": "code",
   "execution_count": 14,
   "id": "a23f42cf",
   "metadata": {},
   "outputs": [
    {
     "name": "stdout",
     "output_type": "stream",
     "text": [
      "[[[350 369 604 296 312]\n",
      "  [819 612 459 722 165]\n",
      "  [282 855 385 407 554]\n",
      "  [243 684 531 342 494]\n",
      "  [687 354 346 779 661]]\n",
      "\n",
      " [[282 179 204 577 160]\n",
      "  [169 133 523 949 244]\n",
      "  [662 629 776 538 249]\n",
      "  [616 248 940 313 113]\n",
      "  [831 119 150 485 116]]]\n",
      "1\n",
      "(2, 5, 5)\n"
     ]
    }
   ],
   "source": [
    "arr11 = np.random.randint(100, 1000, (2,5,5))\n",
    "print(arr11)\n",
    "print(arr1.ndim)\n",
    "print(arr11.shape) #12"
   ]
  },
  {
   "cell_type": "code",
   "execution_count": 15,
   "id": "c2fe1e0d",
   "metadata": {},
   "outputs": [
    {
     "name": "stdout",
     "output_type": "stream",
     "text": [
      "[26 39 80 26 94  5 39 34 45  3]\n",
      "94\n",
      "3\n",
      "4\n",
      "9\n"
     ]
    }
   ],
   "source": [
    "arr12 = np.random.randint(0, 101, 10)\n",
    "print(arr12)\n",
    "print(arr12.max())\n",
    "print(arr12.min())\n",
    "print(arr12.argmax())\n",
    "print(arr12.argmin()) #13"
   ]
  },
  {
   "cell_type": "code",
   "execution_count": 16,
   "id": "58ce382d",
   "metadata": {},
   "outputs": [
    {
     "data": {
      "text/plain": [
       "array([[[448, 422, 469, 455, 473],\n",
       "        [391, 446, 425, 464, 391]],\n",
       "\n",
       "       [[416, 320, 302, 450, 447],\n",
       "        [392, 476, 469, 353, 347]]])"
      ]
     },
     "execution_count": 16,
     "metadata": {},
     "output_type": "execute_result"
    }
   ],
   "source": [
    "arr13 = np.random.randint(300, 501, (2,2,5))\n",
    "arr13"
   ]
  },
  {
   "cell_type": "code",
   "execution_count": 17,
   "id": "68dfa8fc",
   "metadata": {},
   "outputs": [
    {
     "name": "stdout",
     "output_type": "stream",
     "text": [
      "464\n",
      "353\n"
     ]
    }
   ],
   "source": [
    "print(arr13[0][1][3]) # Max\n",
    "print(arr13[1][1][3]) # Min\n",
    "#14"
   ]
  },
  {
   "cell_type": "code",
   "execution_count": 18,
   "id": "5360d5f0",
   "metadata": {},
   "outputs": [
    {
     "data": {
      "text/plain": [
       "array([ 0,  1,  2,  3,  4,  5,  6,  7,  8,  9, 10, 11, 12, 13, 14, 15, 16,\n",
       "       17, 18, 19, 20, 21, 22, 23, 24, 25, 26, 27, 28, 29, 30, 31, 32, 33,\n",
       "       34, 35, 36, 37, 38, 39, 40, 41, 42, 43, 44, 45, 46, 47, 48, 49, 50])"
      ]
     },
     "execution_count": 18,
     "metadata": {},
     "output_type": "execute_result"
    }
   ],
   "source": [
    "arr14 = np.arange(51)\n",
    "arr14"
   ]
  },
  {
   "cell_type": "code",
   "execution_count": 19,
   "id": "1c702b36",
   "metadata": {},
   "outputs": [
    {
     "data": {
      "text/plain": [
       "array([  0,   1,   2,   3,   4,   5,   6,   7,   8,   9,  10,  11,  12,\n",
       "        13,  14,  15,  16,  17,  18,  19, 500, 500, 500, 500, 500, 500,\n",
       "       500, 500, 500, 500, 500, 500, 500, 500, 500,  35,  36,  37,  38,\n",
       "        39,  40,  41,  42,  43,  44,  45,  46,  47,  48,  49,  50])"
      ]
     },
     "execution_count": 19,
     "metadata": {},
     "output_type": "execute_result"
    }
   ],
   "source": [
    "arr14[20:35] = 500\n",
    "arr14 #15"
   ]
  },
  {
   "cell_type": "code",
   "execution_count": 20,
   "id": "6b10ba5e",
   "metadata": {},
   "outputs": [
    {
     "name": "stdout",
     "output_type": "stream",
     "text": [
      "[[[ 0  1  2  3  4]\n",
      "  [ 5  6  7  8  9]\n",
      "  [10 11 12 13 14]\n",
      "  [15 16 17 18 19]]\n",
      "\n",
      " [[20 21 22 23 24]\n",
      "  [25 26 27 28 29]\n",
      "  [30 31 32 33 34]\n",
      "  [35 36 37 38 39]]\n",
      "\n",
      " [[40 41 42 43 44]\n",
      "  [45 46 47 48 49]\n",
      "  [50 51 52 53 54]\n",
      "  [55 56 57 58 59]]]\n",
      "3\n",
      "(3, 4, 5)\n"
     ]
    }
   ],
   "source": [
    "arr = np.arange(60).reshape(3,4,-1)\n",
    "print(arr)\n",
    "print(arr.ndim)\n",
    "print(arr.shape) "
   ]
  },
  {
   "cell_type": "code",
   "execution_count": 21,
   "id": "33611e07",
   "metadata": {},
   "outputs": [
    {
     "data": {
      "text/plain": [
       "array([[[ 0,  1,  2,  3,  4],\n",
       "        [ 5,  6,  7,  8,  9]],\n",
       "\n",
       "       [[10, 11, 12, 13, 14],\n",
       "        [15, 16, 17, 18, 19]],\n",
       "\n",
       "       [[20, 21, 22, 23, 24],\n",
       "        [25, 26, 27, 28, 29]]])"
      ]
     },
     "execution_count": 21,
     "metadata": {},
     "output_type": "execute_result"
    }
   ],
   "source": [
    "arr = np.arange(30).reshape(3,2,-1)\n",
    "arr"
   ]
  },
  {
   "cell_type": "code",
   "execution_count": 22,
   "id": "6f0659b1",
   "metadata": {},
   "outputs": [
    {
     "data": {
      "text/plain": [
       "array([ 0,  1,  2,  3,  4,  5,  6,  7,  8,  9, 10, 11, 12, 13, 14, 15, 16,\n",
       "       17, 18, 19, 20, 21, 22, 23, 24, 25, 26, 27, 28, 29])"
      ]
     },
     "execution_count": 22,
     "metadata": {},
     "output_type": "execute_result"
    }
   ],
   "source": [
    "arr.reshape(-1)"
   ]
  },
  {
   "cell_type": "code",
   "execution_count": 23,
   "id": "b73d00a4",
   "metadata": {},
   "outputs": [
    {
     "data": {
      "text/plain": [
       "array([  0.        ,   2.03389831,   4.06779661,   6.10169492,\n",
       "         8.13559322,  10.16949153,  12.20338983,  14.23728814,\n",
       "        16.27118644,  18.30508475,  20.33898305,  22.37288136,\n",
       "        24.40677966,  26.44067797,  28.47457627,  30.50847458,\n",
       "        32.54237288,  34.57627119,  36.61016949,  38.6440678 ,\n",
       "        40.6779661 ,  42.71186441,  44.74576271,  46.77966102,\n",
       "        48.81355932,  50.84745763,  52.88135593,  54.91525424,\n",
       "        56.94915254,  58.98305085,  61.01694915,  63.05084746,\n",
       "        65.08474576,  67.11864407,  69.15254237,  71.18644068,\n",
       "        73.22033898,  75.25423729,  77.28813559,  79.3220339 ,\n",
       "        81.3559322 ,  83.38983051,  85.42372881,  87.45762712,\n",
       "        89.49152542,  91.52542373,  93.55932203,  95.59322034,\n",
       "        97.62711864,  99.66101695, 101.69491525, 103.72881356,\n",
       "       105.76271186, 107.79661017, 109.83050847, 111.86440678,\n",
       "       113.89830508, 115.93220339, 117.96610169, 120.        ])"
      ]
     },
     "execution_count": 23,
     "metadata": {},
     "output_type": "execute_result"
    }
   ],
   "source": [
    "arr4 = np.linspace(0, 120, 60)\n",
    "arr4"
   ]
  },
  {
   "cell_type": "code",
   "execution_count": 24,
   "id": "f8cd1a9e",
   "metadata": {},
   "outputs": [
    {
     "name": "stdout",
     "output_type": "stream",
     "text": [
      "0.0\n",
      "2.0338983050847457\n",
      "4.067796610169491\n",
      "6.101694915254237\n",
      "8.135593220338983\n",
      "10.169491525423728\n",
      "12.203389830508474\n",
      "14.23728813559322\n",
      "16.271186440677965\n",
      "18.305084745762713\n",
      "20.338983050847457\n",
      "22.3728813559322\n",
      "24.406779661016948\n",
      "26.440677966101696\n",
      "28.47457627118644\n",
      "30.508474576271183\n",
      "32.54237288135593\n",
      "34.57627118644068\n",
      "36.610169491525426\n",
      "38.644067796610166\n",
      "40.67796610169491\n",
      "42.71186440677966\n",
      "44.7457627118644\n",
      "46.77966101694915\n",
      "48.813559322033896\n",
      "50.847457627118644\n",
      "52.88135593220339\n",
      "54.91525423728813\n",
      "56.94915254237288\n",
      "58.983050847457626\n",
      "61.01694915254237\n",
      "63.050847457627114\n",
      "65.08474576271186\n",
      "67.11864406779661\n",
      "69.15254237288136\n",
      "71.1864406779661\n",
      "73.22033898305085\n",
      "75.25423728813558\n",
      "77.28813559322033\n",
      "79.32203389830508\n",
      "81.35593220338983\n",
      "83.38983050847457\n",
      "85.42372881355932\n",
      "87.45762711864407\n",
      "89.4915254237288\n",
      "91.52542372881355\n",
      "93.5593220338983\n",
      "95.59322033898304\n",
      "97.62711864406779\n",
      "99.66101694915254\n",
      "101.69491525423729\n",
      "103.72881355932203\n",
      "105.76271186440678\n",
      "107.79661016949152\n",
      "109.83050847457626\n",
      "111.86440677966101\n",
      "113.89830508474576\n",
      "115.9322033898305\n",
      "117.96610169491525\n",
      "120.0\n"
     ]
    }
   ],
   "source": [
    "for i in np.nditer(arr4):\n",
    "    print(i)"
   ]
  },
  {
   "cell_type": "code",
   "execution_count": 25,
   "id": "3cbcb829",
   "metadata": {},
   "outputs": [
    {
     "data": {
      "text/plain": [
       "array([78, 71, 36, 67, 48, 80, 71, 25, 10, 52])"
      ]
     },
     "execution_count": 25,
     "metadata": {},
     "output_type": "execute_result"
    }
   ],
   "source": [
    "arr = np.random.randint(0, 100, 10)\n",
    "arr"
   ]
  },
  {
   "cell_type": "code",
   "execution_count": 27,
   "id": "0d9819ce",
   "metadata": {},
   "outputs": [
    {
     "name": "stdout",
     "output_type": "stream",
     "text": [
      "Sum Of The Values In The Array: 538\n",
      "Mean Of The Values In The Array: 53.8\n",
      "Max Value Of The Array: 80\n",
      "The Variation Of The Values In The Array: 513.9599999999999\n",
      "The Standart Deviation Of The Values In The Array: 22.670685918163127\n"
     ]
    }
   ],
   "source": [
    "print(\"Sum Of The Values In The Array: {}\".format(arr.sum()))\n",
    "print(\"Mean Of The Values In The Array: {}\".format(arr.mean()))\n",
    "print(\"Max Value Of The Array: {}\".format(arr.max()))\n",
    "print(\"The Variation Of The Values In The Array: {}\".format(arr.var()))\n",
    "print(\"The Standart Deviation Of The Values In The Array: {}\".format(arr.std()))"
   ]
  },
  {
   "cell_type": "code",
   "execution_count": 28,
   "id": "4b46df1a",
   "metadata": {},
   "outputs": [],
   "source": [
    "# İki Array'i Birleştirmeyi Öğreneceğiz. Bunu .concatenate() İle Yapıyoruz.\n",
    "# Bu Fonksiyon Parametre Olarak , Birleştirilecek Array'leri Liste Halinde Alır.\n",
    "# Birleştirme İşlemleri Satır Ve Sütun Bazlı Olabilir , Belirtmemiz Gerek.\n",
    "# Belirtmezsek , Default Ayarı Kullanılır. (axis = 0) => Düşey , Satır Bazlı.\n",
    "# 1 Boyutlu Arrayler , 2 Boyutlu Şekilde (axis = 1) Concate Edilemiyor.\n",
    "# Hem axis = 0 , Hem De axis = 1 Olması İçin 2 Boyutlu Arrayler Olmalı.\n",
    "# Kısacası Array'in Boyutu, Axis Kısmından Büyük Olmalı."
   ]
  },
  {
   "cell_type": "code",
   "execution_count": 29,
   "id": "8381769e",
   "metadata": {},
   "outputs": [
    {
     "data": {
      "text/plain": [
       "array([[ 1,  2,  3],\n",
       "       [ 4,  5,  6],\n",
       "       [ 7,  8,  9],\n",
       "       [10, 11, 12]])"
      ]
     },
     "execution_count": 29,
     "metadata": {},
     "output_type": "execute_result"
    }
   ],
   "source": [
    "arr1 = np.array([[1, 2, 3], [4, 5, 6]])\n",
    "arr2 = np.array([[7, 8, 9], [10, 11, 12]])\n",
    "\n",
    "np.concatenate([arr1, arr2] , axis = 0)"
   ]
  },
  {
   "cell_type": "code",
   "execution_count": 30,
   "id": "ef3d7ff7",
   "metadata": {},
   "outputs": [
    {
     "data": {
      "text/plain": [
       "array([[ 1,  2,  3,  7,  8,  9],\n",
       "       [ 4,  5,  6, 10, 11, 12]])"
      ]
     },
     "execution_count": 30,
     "metadata": {},
     "output_type": "execute_result"
    }
   ],
   "source": [
    "np.concatenate([arr1, arr2], axis = 1)"
   ]
  },
  {
   "cell_type": "code",
   "execution_count": 31,
   "id": "10a0c496",
   "metadata": {},
   "outputs": [
    {
     "data": {
      "text/plain": [
       "array([[[ 1,  2,  3],\n",
       "        [ 4,  5,  6]],\n",
       "\n",
       "       [[ 7,  8,  9],\n",
       "        [10, 11, 12]]])"
      ]
     },
     "execution_count": 31,
     "metadata": {},
     "output_type": "execute_result"
    }
   ],
   "source": [
    "# Stackleme (Yığınlama), Concatenate İşleminin Hemen Hemen Aynısı.\n",
    "# Tek Farklı , Yeni Bir Eksen / Boyut Üzerinde Yapılmasıdır.\n",
    "# Yani Boyut Sayısı Artar.\n",
    "\n",
    "arr1 = np.array([[1, 2, 3], [4, 5, 6]])\n",
    "arr2 = np.array([[7, 8, 9], [10, 11, 12]])\n",
    "\n",
    "np.stack([arr1, arr2], axis = 0)"
   ]
  },
  {
   "cell_type": "code",
   "execution_count": 33,
   "id": "3b336ac8",
   "metadata": {},
   "outputs": [],
   "source": [
    "# Stackleme 2 Şekilde Yapılabilir: Horizontal (Yatay) & Vertical (Dikey).\n",
    "# Horizontal => np.hstack()\n",
    "# Veritcal => np.vstack()"
   ]
  },
  {
   "cell_type": "code",
   "execution_count": 34,
   "id": "4afbf737",
   "metadata": {},
   "outputs": [
    {
     "data": {
      "text/plain": [
       "(array([1, 7, 9], dtype=int64),)"
      ]
     },
     "execution_count": 34,
     "metadata": {},
     "output_type": "execute_result"
    }
   ],
   "source": [
    "# NumPy Array'lerinde, İstediğimiz Değerlerin Indexlerini .where() Fonksiyonunu Kullanırız.\n",
    "# Fonksiyon, Parametre Olarak Bir Condition (Şart) Alır.\n",
    "\n",
    "arr = np.array([1, 2, 3, 4, 5, 4, 3, 2, 1, 2, 5])\n",
    "np.where(arr == 2)"
   ]
  },
  {
   "cell_type": "code",
   "execution_count": 35,
   "id": "b9631a81",
   "metadata": {},
   "outputs": [
    {
     "data": {
      "text/plain": [
       "(array([1, 3, 5, 7, 9], dtype=int64),)"
      ]
     },
     "execution_count": 35,
     "metadata": {},
     "output_type": "execute_result"
    }
   ],
   "source": [
    "np.where(arr % 2 == 0)"
   ]
  },
  {
   "cell_type": "code",
   "execution_count": 39,
   "id": "4651129f",
   "metadata": {},
   "outputs": [
    {
     "data": {
      "text/plain": [
       "3"
      ]
     },
     "execution_count": 39,
     "metadata": {},
     "output_type": "execute_result"
    }
   ],
   "source": [
    "# Son Bölümde Random Modülünün Kullanımına Değinildi. \n",
    "# Yeni Olan .choice() Metoduna Bakalım.\n",
    "\n",
    "np.random.choice(np.arange(10))"
   ]
  },
  {
   "cell_type": "code",
   "execution_count": 40,
   "id": "451fcd11",
   "metadata": {},
   "outputs": [
    {
     "data": {
      "text/plain": [
       "2"
      ]
     },
     "execution_count": 40,
     "metadata": {},
     "output_type": "execute_result"
    }
   ],
   "source": [
    "np.random.choice([1, 2, 3, 4, 5])"
   ]
  },
  {
   "cell_type": "code",
   "execution_count": null,
   "id": "57272b4a",
   "metadata": {},
   "outputs": [],
   "source": []
  }
 ],
 "metadata": {
  "kernelspec": {
   "display_name": "Python 3 (ipykernel)",
   "language": "python",
   "name": "python3"
  },
  "language_info": {
   "codemirror_mode": {
    "name": "ipython",
    "version": 3
   },
   "file_extension": ".py",
   "mimetype": "text/x-python",
   "name": "python",
   "nbconvert_exporter": "python",
   "pygments_lexer": "ipython3",
   "version": "3.9.12"
  }
 },
 "nbformat": 4,
 "nbformat_minor": 5
}
